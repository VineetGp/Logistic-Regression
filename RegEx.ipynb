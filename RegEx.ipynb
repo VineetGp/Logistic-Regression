{
 "cells": [
  {
   "cell_type": "markdown",
   "id": "e9ba20f9",
   "metadata": {},
   "source": [
    "### References taken from: \n",
    "https://www.analyticsvidhya.com/blog/2015/06/regular-expression-python/"
   ]
  },
  {
   "cell_type": "code",
   "execution_count": 1,
   "id": "3016ffe2",
   "metadata": {},
   "outputs": [],
   "source": [
    "import re"
   ]
  },
  {
   "cell_type": "code",
   "execution_count": 2,
   "id": "d375d77d",
   "metadata": {},
   "outputs": [],
   "source": [
    "text = 'VG Vineet Gupta VG'"
   ]
  },
  {
   "cell_type": "markdown",
   "id": "83cd5952",
   "metadata": {},
   "source": [
    "### re.search(pattern, string):\n",
    "search() method is able to find a pattern from any position of the string but it only returns the first occurrence of the search pattern."
   ]
  },
  {
   "cell_type": "code",
   "execution_count": 12,
   "id": "6a727f5b",
   "metadata": {},
   "outputs": [
    {
     "name": "stdout",
     "output_type": "stream",
     "text": [
      "VG\n"
     ]
    }
   ],
   "source": [
    "result = re.search('VG',text)\n",
    "print(result.group(0))"
   ]
  },
  {
   "cell_type": "markdown",
   "id": "52bb9958",
   "metadata": {},
   "source": [
    "### re.findall (pattern, string):\n",
    "It helps to get a list of all matching patterns. It has no constraints of searching from start or end. If we will use method findall to search ‘VG’ in given string it will return both occurrence of VG. While searching a string, I would recommend you to use re.findall() always, it can work like re.search() and re.match() both."
   ]
  },
  {
   "cell_type": "code",
   "execution_count": 11,
   "id": "777676e1",
   "metadata": {},
   "outputs": [
    {
     "name": "stdout",
     "output_type": "stream",
     "text": [
      "['VG', 'VG']\n"
     ]
    }
   ],
   "source": [
    "result = re.findall('VG',text)\n",
    "print(result)"
   ]
  },
  {
   "cell_type": "markdown",
   "id": "7e39d0a1",
   "metadata": {},
   "source": [
    "### re.split(pattern, string, [maxsplit=0]):"
   ]
  },
  {
   "cell_type": "code",
   "execution_count": 15,
   "id": "ee0d38af",
   "metadata": {},
   "outputs": [
    {
     "data": {
      "text/plain": [
       "['Anal', 'tics']"
      ]
     },
     "execution_count": 15,
     "metadata": {},
     "output_type": "execute_result"
    }
   ],
   "source": [
    "result=re.split(r'y','Analytics')\n",
    "result"
   ]
  },
  {
   "cell_type": "markdown",
   "id": "88f30feb",
   "metadata": {},
   "source": [
    "Above, we have split the string “Analytics” by “y”. Method split() has another argument “maxsplit“. It has default value of zero. In this case it does the maximum splits that can be done, but if we give value to maxsplit, it will split the string. Let’s look at the example below:"
   ]
  },
  {
   "cell_type": "code",
   "execution_count": 16,
   "id": "d61721f5",
   "metadata": {},
   "outputs": [
    {
     "name": "stdout",
     "output_type": "stream",
     "text": [
      "['Analyt', 'cs V', 'dhya']\n",
      "['Analyt', 'cs Vidhya']\n"
     ]
    }
   ],
   "source": [
    "# Split all occurences\n",
    "result = re.split(r'i', 'Analytics Vidhya')\n",
    "print(result)\n",
    "# Split only 1 occurence as maxsplit = 1\n",
    "result = re.split(r'i','Analytics Vidhya', maxsplit=1)\n",
    "print(result)"
   ]
  },
  {
   "cell_type": "markdown",
   "id": "62de1565",
   "metadata": {},
   "source": [
    "### re.sub(pattern, replaceWith, string):\n",
    "It helps to search a pattern and replace with a new sub string. If the pattern is not found, string is returned unchanged."
   ]
  },
  {
   "cell_type": "code",
   "execution_count": 18,
   "id": "e7f2d16e",
   "metadata": {},
   "outputs": [
    {
     "data": {
      "text/plain": [
       "'AV is largest Analytics community of the World'"
      ]
     },
     "execution_count": 18,
     "metadata": {},
     "output_type": "execute_result"
    }
   ],
   "source": [
    "result=re.sub(r'India','the World','AV is largest Analytics community of India')\n",
    "result"
   ]
  },
  {
   "cell_type": "markdown",
   "id": "835ce8c7",
   "metadata": {},
   "source": [
    "### re.compile(pattern):\n",
    "We can combine a regular expression pattern into pattern objects, which can be used for pattern matching. It also helps to search a pattern again without rewriting it."
   ]
  },
  {
   "cell_type": "code",
   "execution_count": 19,
   "id": "25e81eed",
   "metadata": {},
   "outputs": [
    {
     "data": {
      "text/plain": [
       "['VG', 'VG']"
      ]
     },
     "execution_count": 19,
     "metadata": {},
     "output_type": "execute_result"
    }
   ],
   "source": [
    "pattern = re.compile('VG')\n",
    "result = pattern.findall('VG Vineet Gupta VG')\n",
    "result"
   ]
  },
  {
   "cell_type": "markdown",
   "id": "c63c082e",
   "metadata": {},
   "source": [
    "### Problem 1: Return the first word of a given string"
   ]
  },
  {
   "cell_type": "code",
   "execution_count": 23,
   "id": "03c745f1",
   "metadata": {},
   "outputs": [
    {
     "name": "stdout",
     "output_type": "stream",
     "text": [
      "['A', 'V', ' ', 'i', 's', ' ', 'l', 'a', 'r', 'g', 'e', 's', 't', ' ', 'A', 'n', 'a', 'l', 'y', 't', 'i', 'c', 's', ' ', 'c', 'o', 'm', 'm', 'u', 'n', 'i', 't', 'y', ' ', 'o', 'f', ' ', 'I', 'n', 'd', 'i', 'a']\n",
      "\n",
      "['A', 'V', 'i', 's', 'l', 'a', 'r', 'g', 'e', 's', 't', 'A', 'n', 'a', 'l', 'y', 't', 'i', 'c', 's', 'c', 'o', 'm', 'm', 'u', 'n', 'i', 't', 'y', 'o', 'f', 'I', 'n', 'd', 'i', 'a']\n"
     ]
    }
   ],
   "source": [
    "text = 'AV is largest Analytics community of India'\n",
    "# '.' Matches with any single character except newline ‘\\n’.\n",
    "result=re.findall(r'.', text)\n",
    "print(result)\n",
    "print()\n",
    "\n",
    "# Using \\w doesn't include spaces\n",
    "# '\\w' Matches with a alphanumeric character whereas '\\W' (upper case W) matches non alphanumeric character.\n",
    "result = re.findall(r'\\w', text)\n",
    "print(result)"
   ]
  },
  {
   "cell_type": "markdown",
   "id": "47924dba",
   "metadata": {},
   "source": [
    "### Problem 2: Return words"
   ]
  },
  {
   "cell_type": "code",
   "execution_count": 24,
   "id": "5bd0db6d",
   "metadata": {},
   "outputs": [
    {
     "name": "stdout",
     "output_type": "stream",
     "text": [
      "['AV', '', 'is', '', 'largest', '', 'Analytics', '', 'community', '', 'of', '', 'India', '']\n",
      "\n",
      "['AV', 'is', 'largest', 'Analytics', 'community', 'of', 'India']\n"
     ]
    }
   ],
   "source": [
    "# '*' : 0 or more occurrences of the pattern to its left\n",
    "# as it also print 0 occurence, hence spaces are also present\n",
    "result = re.findall(r'\\w*', text)\n",
    "print(result)\n",
    "print()\n",
    "\n",
    "# '+': 1 or more occurrences of the pattern to its left\n",
    "result = re.findall(r'\\w+', text)\n",
    "print(result)"
   ]
  },
  {
   "cell_type": "code",
   "execution_count": 25,
   "id": "7478f909",
   "metadata": {},
   "outputs": [
    {
     "name": "stdout",
     "output_type": "stream",
     "text": [
      "['AV']\n",
      "\n",
      "['India']\n"
     ]
    }
   ],
   "source": [
    "# ^ and $ match the start or end of the string respectively till a new line.\n",
    "# Hence ^ results the first word and $ results the last word until a new line comes.\n",
    "result = re.findall(r'^\\w+', text)\n",
    "print(result)\n",
    "print()\n",
    "\n",
    "result = re.findall(r'\\w+$', text)\n",
    "print(result)"
   ]
  },
  {
   "cell_type": "markdown",
   "id": "4b479ffc",
   "metadata": {},
   "source": [
    "### Problem 3: Return the first two character of each word"
   ]
  },
  {
   "cell_type": "code",
   "execution_count": 28,
   "id": "81a5e406",
   "metadata": {},
   "outputs": [
    {
     "name": "stdout",
     "output_type": "stream",
     "text": [
      "['AV', 'is', 'la', 'rg', 'es', 'An', 'al', 'yt', 'ic', 'co', 'mm', 'un', 'it', 'of', 'In', 'di']\n",
      "\n",
      "['AV', 'is', 'la', 'rg', 'es', 'An', 'al', 'yt', 'ic', 'co', 'mm', 'un', 'it', 'of', 'In', 'di']\n"
     ]
    }
   ],
   "source": [
    "result = re.findall(r'\\w{2}',text)\n",
    "print(result)\n",
    "print()\n",
    "# OR\n",
    "result = re.findall(r'\\w\\w',text)\n",
    "print(result)"
   ]
  },
  {
   "cell_type": "markdown",
   "id": "ed1512d1",
   "metadata": {},
   "source": [
    "Extract consecutive two characters those available at start of word boundary (using “\\b“)"
   ]
  },
  {
   "cell_type": "code",
   "execution_count": 33,
   "id": "ce61561b",
   "metadata": {},
   "outputs": [
    {
     "name": "stdout",
     "output_type": "stream",
     "text": [
      "['AV', 'is', 'la', 'An', 'co', 'of', 'In']\n",
      "\n",
      "['AV', 'is', 'la', 'An', 'co', 'of', 'In']\n"
     ]
    }
   ],
   "source": [
    "# 2 words only from the starting of any word\n",
    "# \\b: boundary between word and non-word and /B is opposite of /b\n",
    "result = re.findall(r'\\b\\w{2}',text)\n",
    "print(result)\n",
    "print()\n",
    "# OR\n",
    "result = re.findall(r'\\b\\w.',text)\n",
    "print(result)"
   ]
  },
  {
   "cell_type": "markdown",
   "id": "66dd1a57",
   "metadata": {},
   "source": [
    "### Problem 4: Return the domain type of given email-ids"
   ]
  },
  {
   "cell_type": "code",
   "execution_count": 36,
   "id": "af802dcd",
   "metadata": {},
   "outputs": [
    {
     "name": "stdout",
     "output_type": "stream",
     "text": [
      "['@gmail', '@test', '@analyticsvidhya', '@rest']\n",
      "\n",
      "['gmail', 'test', 'analyticsvidhya', 'rest']\n"
     ]
    }
   ],
   "source": [
    "# Extract all characters after “@”\n",
    "text = 'abc.test@gmail.com, xyz@test.in, test.first@analyticsvidhya.com, first.test@rest.biz'\n",
    "result = re.findall(r'@\\w+',text)\n",
    "print(result)\n",
    "print()\n",
    "\n",
    "# '()' Groups regex and returns the string which is part in bracket only\n",
    "# In this our string will start matching from @ but it will print after @\n",
    "result = re.findall(r'@(\\w+)',text)\n",
    "print(result)"
   ]
  },
  {
   "cell_type": "code",
   "execution_count": 37,
   "id": "3705eac2",
   "metadata": {},
   "outputs": [
    {
     "name": "stdout",
     "output_type": "stream",
     "text": [
      "['@gmail.com', '@test.in', '@analyticsvidhya.com', '@rest.biz']\n",
      "\n",
      "['gmail.com', 'test.in', 'analyticsvidhya.com', 'rest.biz']\n"
     ]
    }
   ],
   "source": [
    "result = re.findall(r'@\\w+.\\w+',text)\n",
    "print(result)\n",
    "print()\n",
    "\n",
    "result = re.findall(r'@(\\w+.\\w+)',text)\n",
    "print(result)"
   ]
  },
  {
   "cell_type": "code",
   "execution_count": 38,
   "id": "1e02a147",
   "metadata": {},
   "outputs": [
    {
     "name": "stdout",
     "output_type": "stream",
     "text": [
      "['com', 'in', 'com', 'biz']\n"
     ]
    }
   ],
   "source": [
    "# Extract only domain name using “( )”\n",
    "result = re.findall(r'@\\w+.(\\w+)',text)\n",
    "print(result)"
   ]
  },
  {
   "cell_type": "markdown",
   "id": "90395e4c",
   "metadata": {},
   "source": [
    "### Problem 5: Return date and phone no from given string"
   ]
  },
  {
   "cell_type": "code",
   "execution_count": 40,
   "id": "c02aef60",
   "metadata": {},
   "outputs": [
    {
     "name": "stdout",
     "output_type": "stream",
     "text": [
      "['17/12/2021', '18/12/2021']\n",
      "\n",
      "['0124-236703', '0171-236474']\n"
     ]
    }
   ],
   "source": [
    "# \\d is used to extract digits\n",
    "text = '''Phone No: 0124-236703, Date: 17/12/2021, Name: Vineet\n",
    ", Phone No: 0171-236474, Date: 18/12/2021, Name: Vaibhav'''\n",
    "result = re.findall(r'\\d{2}/\\d{2}/\\d{4}',text)\n",
    "print(result)\n",
    "print()\n",
    "\n",
    "result = re.findall(r'\\d{4}-\\d{6}',text)\n",
    "print(result)"
   ]
  },
  {
   "cell_type": "code",
   "execution_count": 45,
   "id": "9f2c1230",
   "metadata": {},
   "outputs": [
    {
     "name": "stdout",
     "output_type": "stream",
     "text": [
      "['0124', '0171']\n",
      "\n",
      "['0124', '2367', '2021', '0171', '2364', '2021']\n"
     ]
    }
   ],
   "source": [
    "# For area code of phone number:\n",
    "result = re.findall(r'(\\d{4})-\\d{6}',text)\n",
    "print(result)\n",
    "print()\n",
    "# We can't do like this:\n",
    "result = re.findall(r'\\d{4}',text)\n",
    "print(result)"
   ]
  },
  {
   "cell_type": "markdown",
   "id": "b5bae8a6",
   "metadata": {},
   "source": [
    "### Problem 6: Return all words of a string those starts with vowel"
   ]
  },
  {
   "cell_type": "code",
   "execution_count": 46,
   "id": "9d0bb5ca",
   "metadata": {},
   "outputs": [
    {
     "name": "stdout",
     "output_type": "stream",
     "text": [
      "['AV', 'is', 'argest', 'Analytics', 'ommunity', 'of', 'India']\n"
     ]
    }
   ],
   "source": [
    "text = 'AV is largest Analytics community of India'\n",
    "result = re.findall(r'[aeiouAEIOU]\\w+', text)\n",
    "print(result)\n",
    "# But We want only words which starts with vowels."
   ]
  },
  {
   "cell_type": "code",
   "execution_count": 48,
   "id": "2868148e",
   "metadata": {},
   "outputs": [
    {
     "name": "stdout",
     "output_type": "stream",
     "text": [
      "['AV', 'is', 'Analytics', 'of', 'India']\n"
     ]
    }
   ],
   "source": [
    "# All words that starts with vowels\n",
    "result = re.findall(r'\\b[aeiouAEIOU]\\w+', text)\n",
    "print(result) "
   ]
  },
  {
   "cell_type": "code",
   "execution_count": 49,
   "id": "c75a30bd",
   "metadata": {},
   "outputs": [
    {
     "name": "stdout",
     "output_type": "stream",
     "text": [
      "[' is', ' largest', ' Analytics', ' community', ' of', ' India']\n"
     ]
    }
   ],
   "source": [
    "# If we want words that doesn't start with vowels.\n",
    "result = re.findall(r'\\b[^aeiouAEIOU]\\w+', text)\n",
    "print(result) "
   ]
  },
  {
   "cell_type": "markdown",
   "id": "d261d5e8",
   "metadata": {},
   "source": [
    "Above we can see that it has returned words starting with space eg(' is',' India'). To drop it from output, include space in square bracket[]."
   ]
  },
  {
   "cell_type": "code",
   "execution_count": 50,
   "id": "0a823c1e",
   "metadata": {},
   "outputs": [
    {
     "name": "stdout",
     "output_type": "stream",
     "text": [
      "['largest', 'community']\n"
     ]
    }
   ],
   "source": [
    "# is,India,Analytics has a space in starting\n",
    "result = re.findall(r'\\b[^aeiouAEIOU ]\\w+', text)\n",
    "print(result) "
   ]
  },
  {
   "cell_type": "markdown",
   "id": "093299de",
   "metadata": {},
   "source": [
    "### Problem 7: Split a string with multiple delimiters"
   ]
  },
  {
   "cell_type": "code",
   "execution_count": 55,
   "id": "caafcf9f",
   "metadata": {},
   "outputs": [
    {
     "name": "stdout",
     "output_type": "stream",
     "text": [
      "['asdf', 'fjdk', 'afed', 'fjek', 'asdf', 'foo']\n",
      "\n",
      "asdf fjdk afed fjek asdf foo\n"
     ]
    }
   ],
   "source": [
    "text = 'asdf fjdk;afed,fjek,asdf,foo' # String has multiple delimiters (\";\",\",\",\" \").\n",
    "result= re.split(r'[;,\\s]', text)\n",
    "print(result)\n",
    "print()\n",
    "# We can also use method re.sub() to replace these multiple delimiters with one as space ” “.\n",
    "result= re.sub(r'[;,\\s]',' ', text)\n",
    "print(result)"
   ]
  },
  {
   "cell_type": "markdown",
   "id": "89b5f3cb",
   "metadata": {},
   "source": [
    "### Problem 8: Validate a phone number (phone number must be of 10 digits and starts with 8 or 9) "
   ]
  },
  {
   "cell_type": "code",
   "execution_count": 58,
   "id": "dbe0e7ad",
   "metadata": {},
   "outputs": [
    {
     "name": "stdout",
     "output_type": "stream",
     "text": [
      "yes\n",
      "yes\n",
      "no\n"
     ]
    }
   ],
   "source": [
    "lst=['9999999999','8939929991','99999x9999']\n",
    "for val in lst:\n",
    "    if re.match(r'[8-9]{1}[0-9]{9}',val) and len(val)==10:\n",
    "        print('yes')\n",
    "    else:\n",
    "        print('no')"
   ]
  },
  {
   "cell_type": "code",
   "execution_count": null,
   "id": "1682f7ed",
   "metadata": {},
   "outputs": [],
   "source": []
  }
 ],
 "metadata": {
  "kernelspec": {
   "display_name": "Python 3",
   "language": "python",
   "name": "python3"
  },
  "language_info": {
   "codemirror_mode": {
    "name": "ipython",
    "version": 3
   },
   "file_extension": ".py",
   "mimetype": "text/x-python",
   "name": "python",
   "nbconvert_exporter": "python",
   "pygments_lexer": "ipython3",
   "version": "3.8.8"
  }
 },
 "nbformat": 4,
 "nbformat_minor": 5
}
