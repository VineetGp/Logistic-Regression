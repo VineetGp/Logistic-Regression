{
  "cells": [
    {
      "cell_type": "code",
      "execution_count": 1,
      "id": "480410b3",
      "metadata": {
        "id": "480410b3"
      },
      "outputs": [],
      "source": [
        "from sklearn.datasets import make_regression\n",
        "import matplotlib.pyplot as plt\n",
        "import numpy as np\n",
        "from sklearn.model_selection import cross_val_score"
      ]
    },
    {
      "cell_type": "code",
      "execution_count": 2,
      "id": "a720e496",
      "metadata": {
        "id": "a720e496"
      },
      "outputs": [],
      "source": [
        "X,y = make_regression(n_samples=100, n_features=1, n_informative=1, n_targets=1,noise=20,random_state=13)"
      ]
    },
    {
      "cell_type": "code",
      "execution_count": 3,
      "id": "623ddc39",
      "metadata": {
        "colab": {
          "base_uri": "https://localhost:8080/",
          "height": 283
        },
        "id": "623ddc39",
        "outputId": "aa161ae3-1087-41f7-9d03-604df03e618b"
      },
      "outputs": [
        {
          "output_type": "execute_result",
          "data": {
            "text/plain": [
              "<matplotlib.collections.PathCollection at 0x7f47bb0753d0>"
            ]
          },
          "metadata": {},
          "execution_count": 3
        },
        {
          "output_type": "display_data",
          "data": {
            "image/png": "[encoded data removed]",
            "text/plain": [
              "<Figure size 432x288 with 1 Axes>"
            ]
          },
          "metadata": {
            "needs_background": "light"
          }
        }
      ],
      "source": [
        "plt.scatter(X,y)"
      ]
    },
    {
      "cell_type": "code",
      "execution_count": 4,
      "id": "fb217682",
      "metadata": {
        "id": "fb217682"
      },
      "outputs": [],
      "source": [
        "from sklearn.model_selection import train_test_split\n",
        "X_train,X_test,y_train,y_test = train_test_split(X,y,test_size=0.2,random_state=2)"
      ]
    },
    {
      "cell_type": "code",
      "execution_count": 5,
      "id": "1c75b68c",
      "metadata": {
        "id": "1c75b68c"
      },
      "outputs": [],
      "source": [
        "from sklearn.linear_model import LinearRegression"
      ]
    },
    {
      "cell_type": "code",
      "execution_count": 6,
      "id": "7f55ab93",
      "metadata": {
        "id": "7f55ab93"
      },
      "outputs": [],
      "source": [
        "lr = LinearRegression()"
      ]
    },
    {
      "cell_type": "code",
      "execution_count": 7,
      "id": "8a9b8dab",
      "metadata": {
        "colab": {
          "base_uri": "https://localhost:8080/"
        },
        "id": "8a9b8dab",
        "outputId": "d46286c6-0e94-4e57-b6fe-bd99c07b883b"
      },
      "outputs": [
        {
          "output_type": "stream",
          "name": "stdout",
          "text": [
            "[28.12597332]\n",
            "-2.2710144261783825\n"
          ]
        }
      ],
      "source": [
        "lr.fit(X_train,y_train)\n",
        "print(lr.coef_)\n",
        "print(lr.intercept_)"
      ]
    },
    {
      "cell_type": "code",
      "source": [
        "x = 28.12597332*X.ravel() - 2.2710144261783825\n",
        "plt.plot(X,x,color='red')\n",
        "plt.scatter(X,y)"
      ],
      "metadata": {
        "colab": {
          "base_uri": "https://localhost:8080/",
          "height": 283
        },
        "id": "3WwsHs-g7v6c",
        "outputId": "99e05263-ceed-4593-c08d-7df6fc263a76"
      },
      "id": "3WwsHs-g7v6c",
      "execution_count": 9,
      "outputs": [
        {
          "output_type": "execute_result",
          "data": {
            "text/plain": [
              "<matplotlib.collections.PathCollection at 0x7f47b3cc2450>"
            ]
          },
          "metadata": {},
          "execution_count": 9
        },
        {
          "output_type": "display_data",
          "data": {
            "image/png": "[encoded data removed]",
            "text/plain": [
              "<Figure size 432x288 with 1 Axes>"
            ]
          },
          "metadata": {
            "needs_background": "light"
          }
        }
      ]
    },
    {
      "cell_type": "code",
      "source": [
        "# OR\n",
        "a = np.linspace(-2.5,2.5,100)\n",
        "b = 28.12597332*a - 2.2710144261783825\n",
        "plt.plot(a,b,color='red')\n",
        "plt.scatter(X,y)"
      ],
      "metadata": {
        "colab": {
          "base_uri": "https://localhost:8080/",
          "height": 283
        },
        "id": "4s72RXrH9KNP",
        "outputId": "18dd5081-4491-4c99-cd0f-dca4e0b02e96"
      },
      "id": "4s72RXrH9KNP",
      "execution_count": 12,
      "outputs": [
        {
          "output_type": "execute_result",
          "data": {
            "text/plain": [
              "<matplotlib.collections.PathCollection at 0x7f47b1cba310>"
            ]
          },
          "metadata": {},
          "execution_count": 12
        },
        {
          "output_type": "display_data",
          "data": {
            "image/png": "[encoded data removed]",
            "text/plain": [
              "<Figure size 432x288 with 1 Axes>"
            ]
          },
          "metadata": {
            "needs_background": "light"
          }
        }
      ]
    },
    {
      "cell_type": "code",
      "execution_count": 13,
      "id": "a1891526",
      "metadata": {
        "colab": {
          "base_uri": "https://localhost:8080/"
        },
        "id": "a1891526",
        "outputId": "9c59c2ec-068f-4c25-9702-8ff1b709cda6"
      },
      "outputs": [
        {
          "output_type": "execute_result",
          "data": {
            "text/plain": [
              "0.6345158782661012"
            ]
          },
          "metadata": {},
          "execution_count": 13
        }
      ],
      "source": [
        "y_pred = lr.predict(X_test)\n",
        "from sklearn.metrics import r2_score\n",
        "r2_score(y_test,y_pred)"
      ]
    },
    {
      "cell_type": "code",
      "execution_count": 18,
      "id": "0a55c997",
      "metadata": {
        "id": "0a55c997"
      },
      "outputs": [],
      "source": [
        "class GDRegressor:\n",
        "\n",
        "  def __init__(self,learning_rate,epochs):\n",
        "    self.lr = learning_rate\n",
        "    self.epochs = epochs\n",
        "    self.m = 100\n",
        "    self.b = -120\n",
        "\n",
        "  def fit(self,X,y):\n",
        "    for i in range(self.epochs):\n",
        "      loss_slope_b = -2*np.sum(y-self.m*X.ravel()-self.b)\n",
        "      loss_slope_m = -2*np.sum((y-self.m*X.ravel()-self.b)*X.ravel())\n",
        "      self.m = self.m - self.lr*loss_slope_m\n",
        "      self.b = self.b - self.lr*loss_slope_b\n",
        "    print('Coeff=',self.m,' Intercept=', self.b)\n",
        "\n",
        "  def predict(self,y):\n",
        "    return self.m*y + self.b\n",
        "    "
      ]
    },
    {
      "cell_type": "code",
      "execution_count": 19,
      "id": "916c1a07",
      "metadata": {
        "id": "916c1a07"
      },
      "outputs": [],
      "source": [
        "gd = GDRegressor(0.001,50)"
      ]
    },
    {
      "cell_type": "code",
      "execution_count": 20,
      "id": "fb9c36f3",
      "metadata": {
        "colab": {
          "base_uri": "https://localhost:8080/"
        },
        "id": "fb9c36f3",
        "outputId": "fdec1d1c-cbc1-4d24-9300-872f6a5f9183"
      },
      "outputs": [
        {
          "output_type": "stream",
          "name": "stdout",
          "text": [
            "Coeff= 28.159367347119066  Intercept= -2.3004574196824854\n"
          ]
        }
      ],
      "source": [
        "gd.fit(X_train,y_train)"
      ]
    },
    {
      "cell_type": "code",
      "execution_count": 21,
      "id": "bcd8f1cb",
      "metadata": {
        "colab": {
          "base_uri": "https://localhost:8080/"
        },
        "id": "bcd8f1cb",
        "outputId": "5d88de49-7af2-43ca-ffb6-7c19d8c5c9cf"
      },
      "outputs": [
        {
          "output_type": "execute_result",
          "data": {
            "text/plain": [
              "0.6343842836315579"
            ]
          },
          "metadata": {},
          "execution_count": 21
        }
      ],
      "source": [
        "y_pred = gd.predict(X_test)\n",
        "from sklearn.metrics import r2_score\n",
        "r2_score(y_test,y_pred)"
      ]
    },
    {
      "cell_type": "code",
      "execution_count": 22,
      "id": "68858bae",
      "metadata": {
        "colab": {
          "base_uri": "https://localhost:8080/",
          "height": 283
        },
        "id": "68858bae",
        "outputId": "36214a3e-96ad-425a-e0b9-23179c85dd1a"
      },
      "outputs": [
        {
          "output_type": "execute_result",
          "data": {
            "text/plain": [
              "<matplotlib.collections.PathCollection at 0x7f47b1b9cb90>"
            ]
          },
          "metadata": {},
          "execution_count": 22
        },
        {
          "output_type": "display_data",
          "data": {
            "image/png": "[encoded data removed]",
            "text/plain": [
              "<Figure size 432x288 with 1 Axes>"
            ]
          },
          "metadata": {
            "needs_background": "light"
          }
        }
      ],
      "source": [
        "a = np.linspace(-2.5,2.5,100)\n",
        "b = 28.12597332*a - 2.2710144261783825\n",
        "c = 28.159367347119066*a - 2.3004574196824854\n",
        "plt.plot(a,b,color='red')\n",
        "plt.plot(a,c,color='black')\n",
        "plt.scatter(X,y)"
      ]
    },
    {
      "cell_type": "code",
      "source": [
        ""
      ],
      "metadata": {
        "id": "TWQiBF_TAMxr"
      },
      "id": "TWQiBF_TAMxr",
      "execution_count": null,
      "outputs": []
    }
  ],
  "metadata": {
    "kernelspec": {
      "display_name": "Python 3",
      "language": "python",
      "name": "python3"
    },
    "language_info": {
      "codemirror_mode": {
        "name": "ipython",
        "version": 3
      },
      "file_extension": ".py",
      "mimetype": "text/x-python",
      "name": "python",
      "nbconvert_exporter": "python",
      "pygments_lexer": "ipython3",
      "version": "3.8.8"
    },
    "colab": {
      "name": "gradient-descent-code-from-scratch.ipynb",
      "provenance": [],
      "collapsed_sections": []
    }
  },
  "nbformat": 4,
  "nbformat_minor": 5
}