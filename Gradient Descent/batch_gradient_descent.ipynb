{
  "cells": [
    {
      "cell_type": "code",
      "execution_count": 1,
      "id": "7d78b116",
      "metadata": {
        "id": "7d78b116"
      },
      "outputs": [],
      "source": [
        "from sklearn.datasets import load_diabetes\n",
        "\n",
        "import numpy as np\n",
        "from sklearn.linear_model import LinearRegression\n",
        "from sklearn.metrics import r2_score\n",
        "from sklearn.model_selection import train_test_split"
      ]
    },
    {
      "cell_type": "code",
      "execution_count": 2,
      "id": "6b46625d",
      "metadata": {
        "id": "6b46625d"
      },
      "outputs": [],
      "source": [
        "X,y = load_diabetes(return_X_y=True)"
      ]
    },
    {
      "cell_type": "code",
      "execution_count": 3,
      "id": "c2ad6cd1",
      "metadata": {
        "colab": {
          "base_uri": "https://localhost:8080/"
        },
        "id": "c2ad6cd1",
        "outputId": "7852bb69-d1ab-41a9-8f8b-1eb1d1dd7e21"
      },
      "outputs": [
        {
          "output_type": "stream",
          "name": "stdout",
          "text": [
            "(442, 10)\n",
            "(442,)\n"
          ]
        }
      ],
      "source": [
        "print(X.shape)\n",
        "print(y.shape)"
      ]
    },
    {
      "cell_type": "code",
      "execution_count": 4,
      "id": "a70d2eb2",
      "metadata": {
        "id": "a70d2eb2"
      },
      "outputs": [],
      "source": [
        "X_train,X_test,y_train,y_test = train_test_split(X,y,test_size=0.2,random_state=2)"
      ]
    },
    {
      "cell_type": "code",
      "execution_count": 5,
      "id": "a8ec5613",
      "metadata": {
        "colab": {
          "base_uri": "https://localhost:8080/"
        },
        "id": "a8ec5613",
        "outputId": "2158b558-c609-45b7-ce16-918dc3c1b6eb"
      },
      "outputs": [
        {
          "output_type": "execute_result",
          "data": {
            "text/plain": [
              "LinearRegression()"
            ]
          },
          "metadata": {},
          "execution_count": 5
        }
      ],
      "source": [
        "reg = LinearRegression()\n",
        "reg.fit(X_train,y_train)"
      ]
    },
    {
      "cell_type": "code",
      "execution_count": 6,
      "id": "d3e3934e",
      "metadata": {
        "colab": {
          "base_uri": "https://localhost:8080/"
        },
        "id": "d3e3934e",
        "outputId": "b7cb4a33-94f8-4f6f-934d-c1466735cda0"
      },
      "outputs": [
        {
          "output_type": "stream",
          "name": "stdout",
          "text": [
            "[  -9.16088483 -205.46225988  516.68462383  340.62734108 -895.54360867\n",
            "  561.21453306  153.88478595  126.73431596  861.12139955   52.41982836]\n",
            "151.88334520854633\n"
          ]
        }
      ],
      "source": [
        "print(reg.coef_)\n",
        "print(reg.intercept_)"
      ]
    },
    {
      "cell_type": "code",
      "execution_count": 7,
      "id": "d8b0bb30",
      "metadata": {
        "colab": {
          "base_uri": "https://localhost:8080/"
        },
        "id": "d8b0bb30",
        "outputId": "3591445a-ef3a-4949-9122-fc6f9da80027"
      },
      "outputs": [
        {
          "output_type": "execute_result",
          "data": {
            "text/plain": [
              "0.4399387660024645"
            ]
          },
          "metadata": {},
          "execution_count": 7
        }
      ],
      "source": [
        "y_pred = reg.predict(X_test)\n",
        "r2_score(y_test,y_pred)"
      ]
    },
    {
      "cell_type": "code",
      "execution_count": 8,
      "id": "b5f8dc27",
      "metadata": {
        "colab": {
          "base_uri": "https://localhost:8080/"
        },
        "id": "b5f8dc27",
        "outputId": "356f0cae-a20e-4f54-c503-e62b4659e961"
      },
      "outputs": [
        {
          "output_type": "execute_result",
          "data": {
            "text/plain": [
              "(353, 10)"
            ]
          },
          "metadata": {},
          "execution_count": 8
        }
      ],
      "source": [
        "X_train.shape"
      ]
    },
    {
      "cell_type": "code",
      "execution_count": 9,
      "id": "777721d5",
      "metadata": {
        "id": "777721d5"
      },
      "outputs": [],
      "source": [
        "class GDRegressor:\n",
        "\n",
        "  def __init__(self,lr,epochs):\n",
        "    self.lr = lr\n",
        "    self.epochs = epochs\n",
        "    self.coef = np.random.randint(0,1,X_train.shape[1])\n",
        "    self.intercept = 0\n",
        "  \n",
        "  def fit(self,X_train,y_train):\n",
        "    for i in range(self.epochs):\n",
        "      y_hat = np.dot(X_train,self.coef) + self.intercept\n",
        "      derivative_inter = -2 * np.mean(y_train - y_hat)\n",
        "      derivative_coef = -2 * np.dot(X_train.T,(y_train - y_hat)) / X_train.shape[0]\n",
        "      self.intercept = self.intercept - (self.lr * derivative_inter)\n",
        "      self.coef = self.coef - (self.lr * derivative_coef)\n",
        "    print(self.coef, self.intercept)\n",
        "\n",
        "  def predict(self, X_test):\n",
        "    return np.dot(X_test,self.coef)+self.intercept"
      ]
    },
    {
      "cell_type": "code",
      "execution_count": 10,
      "id": "4ecc1e6f",
      "metadata": {
        "id": "4ecc1e6f"
      },
      "outputs": [],
      "source": [
        "gdr = GDRegressor(epochs=1000,lr=0.5)"
      ]
    },
    {
      "cell_type": "code",
      "execution_count": 11,
      "id": "e7e6aec9",
      "metadata": {
        "colab": {
          "base_uri": "https://localhost:8080/"
        },
        "id": "e7e6aec9",
        "outputId": "dcb67faa-c852-4ebf-bed9-8bd7a4e427f6"
      },
      "outputs": [
        {
          "output_type": "stream",
          "name": "stdout",
          "text": [
            "[  14.4222273  -173.9229851   491.40281551  323.96720949  -39.01621761\n",
            " -116.05574592 -194.64802646  102.97680967  451.5413918    97.58145291] 152.0134704235417\n"
          ]
        }
      ],
      "source": [
        "gdr.fit(X_train,y_train)"
      ]
    },
    {
      "cell_type": "code",
      "execution_count": 12,
      "id": "8e5e4410",
      "metadata": {
        "id": "8e5e4410"
      },
      "outputs": [],
      "source": [
        "y_pred = gdr.predict(X_test)"
      ]
    },
    {
      "cell_type": "code",
      "execution_count": 13,
      "id": "84f66db7",
      "metadata": {
        "colab": {
          "base_uri": "https://localhost:8080/"
        },
        "id": "84f66db7",
        "outputId": "698c69ef-1495-464d-f351-0e40459df183"
      },
      "outputs": [
        {
          "output_type": "execute_result",
          "data": {
            "text/plain": [
              "0.45348121652049045"
            ]
          },
          "metadata": {},
          "execution_count": 13
        }
      ],
      "source": [
        "r2_score(y_test,y_pred)"
      ]
    },
    {
      "cell_type": "code",
      "source": [
        ""
      ],
      "metadata": {
        "id": "lLBdU6tcTk_p"
      },
      "id": "lLBdU6tcTk_p",
      "execution_count": 13,
      "outputs": []
    }
  ],
  "metadata": {
    "kernelspec": {
      "display_name": "Python 3",
      "language": "python",
      "name": "python3"
    },
    "language_info": {
      "codemirror_mode": {
        "name": "ipython",
        "version": 3
      },
      "file_extension": ".py",
      "mimetype": "text/x-python",
      "name": "python",
      "nbconvert_exporter": "python",
      "pygments_lexer": "ipython3",
      "version": "3.8.8"
    },
    "colab": {
      "name": "batch-gradient-descent.ipynb",
      "provenance": [],
      "collapsed_sections": []
    }
  },
  "nbformat": 4,
  "nbformat_minor": 5
}